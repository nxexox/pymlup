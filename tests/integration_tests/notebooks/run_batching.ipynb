{
 "cells": [
  {
   "cell_type": "code",
   "id": "356a372b",
   "metadata": {
    "ExecuteTime": {
     "end_time": "2024-08-09T10:20:11.162569Z",
     "start_time": "2024-08-09T10:20:10.963114Z"
    }
   },
   "source": [
    "import requests\n",
    "import mlup\n",
    "from mlup import constants"
   ],
   "outputs": [],
   "execution_count": 1
  },
  {
   "cell_type": "code",
   "id": "501cf3d6",
   "metadata": {
    "ExecuteTime": {
     "end_time": "2024-08-09T10:20:12.329604Z",
     "start_time": "2024-08-09T10:20:12.326930Z"
    }
   },
   "source": [
    "class MyModel:\n",
    "    def predict(self, X):\n",
    "        return X\n",
    "\n",
    "model = MyModel()"
   ],
   "outputs": [],
   "execution_count": 2
  },
  {
   "cell_type": "code",
   "id": "58f2bca9",
   "metadata": {
    "ExecuteTime": {
     "end_time": "2024-08-09T10:20:14.285965Z",
     "start_time": "2024-08-09T10:20:14.270184Z"
    }
   },
   "source": [
    "up = mlup.UP(\n",
    "    ml_model=model, \n",
    "    conf=mlup.Config(\n",
    "        data_transformer_for_predict=constants.ModelDataTransformerType.SRC_TYPES,\n",
    "        data_transformer_for_predicted=constants.ModelDataTransformerType.SRC_TYPES,\n",
    "        mode=constants.WebAppArchitecture.batching,\n",
    "    )\n",
    ")"
   ],
   "outputs": [],
   "execution_count": 3
  },
  {
   "cell_type": "code",
   "id": "e8f0b696",
   "metadata": {
    "ExecuteTime": {
     "end_time": "2024-08-09T10:20:15.401038Z",
     "start_time": "2024-08-09T10:20:15.351133Z"
    }
   },
   "source": [
    "up.ml.load()"
   ],
   "outputs": [
    {
     "name": "stdout",
     "output_type": "stream",
     "text": [
      "INFO:[2024-08-09 15:20:15.353] - Run load model.\n",
      "INFO:[2024-08-09 15:20:15.358] - Time to load binary model to memory: 0.000.\n",
      "INFO:[2024-08-09 15:20:15.359] - Size deserializing models: 56\n",
      "INFO:[2024-08-09 15:20:15.395] - Run load model settings.\n",
      "INFO:[2024-08-09 15:20:15.398] - Analyzing arguments in <bound method MyModel.predict of <__main__.MyModel object at 0x1048a7b10>>.\n",
      "INFO:[2024-08-09 15:20:15.398] - Found X param in model params. Set List type\n",
      "INFO:[2024-08-09 15:20:15.399] - Time to load model settings: 0.002.\n"
     ]
    }
   ],
   "execution_count": 4
  },
  {
   "cell_type": "code",
   "id": "42f95f29",
   "metadata": {
    "ExecuteTime": {
     "end_time": "2024-08-09T10:20:18.408861Z",
     "start_time": "2024-08-09T10:20:18.399433Z"
    }
   },
   "source": [
    "up.predict(X=[1, 2, 3])"
   ],
   "outputs": [
    {
     "name": "stdout",
     "output_type": "stream",
     "text": [
      "INFO:[2024-08-09 15:20:18.401] - The model work: 0.001.\n"
     ]
    },
    {
     "data": {
      "text/plain": [
       "[1, 2, 3]"
      ]
     },
     "execution_count": 5,
     "metadata": {},
     "output_type": "execute_result"
    }
   ],
   "execution_count": 5
  },
  {
   "cell_type": "code",
   "id": "0fc05886",
   "metadata": {
    "ExecuteTime": {
     "end_time": "2024-08-09T10:20:20.738183Z",
     "start_time": "2024-08-09T10:20:20.622460Z"
    }
   },
   "source": [
    "up.run_web_app(daemon=True)"
   ],
   "outputs": [
    {
     "name": "stdout",
     "output_type": "stream",
     "text": [
      "INFO:[2024-08-09 15:20:20.623] - Run load Web application\n",
      "INFO:     [31634][6304362496] [2024-08-09 15:20:20.630] - MLup application will be launched at: http://0.0.0.0:8009\n",
      "INFO:     [31634][6304362496] [2024-08-09 15:20:20.632] - You can open your application's API documentation at http://0.0.0.0:8009/docs\n",
      "INFO:     [31634][8349944832] [2024-08-09 15:20:20.631] - Waiting start uvicorn proc with web app 30.0 seconds.\n"
     ]
    },
    {
     "name": "stderr",
     "output_type": "stream",
     "text": [
      "INFO:     Started server process [31634]\n",
      "INFO:     Waiting for application startup.\n"
     ]
    },
    {
     "name": "stdout",
     "output_type": "stream",
     "text": [
      "INFO:     [31634][6304362496] [2024-08-09 15:20:20.663] - Run model in batching worker\n",
      "INFO:     [31634][6304362496] [2024-08-09 15:20:20.664] - Start checking the batch queue...\n"
     ]
    },
    {
     "name": "stderr",
     "output_type": "stream",
     "text": [
      "INFO:     Application startup complete.\n",
      "INFO:     Uvicorn running on http://0.0.0.0:8009 (Press CTRL+C to quit)\n"
     ]
    }
   ],
   "execution_count": 6
  },
  {
   "cell_type": "code",
   "id": "ab79bbd3",
   "metadata": {
    "ExecuteTime": {
     "end_time": "2024-08-09T10:20:45.493061Z",
     "start_time": "2024-08-09T10:20:44.368865Z"
    }
   },
   "source": [
    "resp = requests.post('http://0.0.0.0:8009/predict', json={'X': [1, 2, 3]})"
   ],
   "outputs": [],
   "execution_count": 7
  },
  {
   "cell_type": "code",
   "id": "8bd4d260",
   "metadata": {
    "ExecuteTime": {
     "end_time": "2024-08-09T10:20:53.636921Z",
     "start_time": "2024-08-09T10:20:50.628315Z"
    }
   },
   "source": "up.stop_web_app()",
   "outputs": [
    {
     "name": "stderr",
     "output_type": "stream",
     "text": [
      "INFO:     Shutting down\n",
      "INFO:     Waiting for application shutdown.\n",
      "INFO:     Application shutdown complete.\n"
     ]
    }
   ],
   "execution_count": 8
  },
  {
   "cell_type": "code",
   "id": "29850e24",
   "metadata": {
    "ExecuteTime": {
     "end_time": "2024-08-09T10:20:55.344603Z",
     "start_time": "2024-08-09T10:20:55.338650Z"
    }
   },
   "source": "resp.json()",
   "outputs": [
    {
     "data": {
      "text/plain": [
       "{'predict_result': [1, 2, 3]}"
      ]
     },
     "execution_count": 9,
     "metadata": {},
     "output_type": "execute_result"
    }
   ],
   "execution_count": 9
  }
 ],
 "metadata": {
  "kernelspec": {
   "display_name": "Python 3 (ipykernel)",
   "language": "python",
   "name": "python3"
  },
  "language_info": {
   "codemirror_mode": {
    "name": "ipython",
    "version": 3
   },
   "file_extension": ".py",
   "mimetype": "text/x-python",
   "name": "python",
   "nbconvert_exporter": "python",
   "pygments_lexer": "ipython3",
   "version": "3.7.16"
  }
 },
 "nbformat": 4,
 "nbformat_minor": 5
}
