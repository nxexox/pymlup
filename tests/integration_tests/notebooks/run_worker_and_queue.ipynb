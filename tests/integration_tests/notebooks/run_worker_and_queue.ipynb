{
 "cells": [
  {
   "cell_type": "code",
   "execution_count": 1,
   "id": "356a372b",
   "metadata": {},
   "outputs": [],
   "source": [
    "import requests\n",
    "import mlup\n",
    "from mlup import constants"
   ]
  },
  {
   "cell_type": "code",
   "execution_count": 2,
   "id": "501cf3d6",
   "metadata": {},
   "outputs": [],
   "source": [
    "class MyModel:\n",
    "    def predict(self, X):\n",
    "        return X\n",
    "\n",
    "model = MyModel()"
   ]
  },
  {
   "cell_type": "code",
   "execution_count": 3,
   "id": "58f2bca9",
   "metadata": {},
   "outputs": [],
   "source": [
    "up = mlup.UP(\n",
    "    ml_model=model, \n",
    "    conf=mlup.Config(\n",
    "        data_transformer_for_predict=constants.ModelDataTransformerType.SRC_TYPES,\n",
    "        data_transformer_for_predicted=constants.ModelDataTransformerType.SRC_TYPES,\n",
    "        mode=constants.WebAppArchitecture.worker_and_queue,\n",
    "    )\n",
    ")"
   ]
  },
  {
   "cell_type": "code",
   "execution_count": 4,
   "id": "e8f0b696",
   "metadata": {},
   "outputs": [
    {
     "name": "stdout",
     "output_type": "stream",
     "text": [
      "INFO:[2023-09-27 19:14:58.859] - Run load model.\n",
      "INFO:[2023-09-27 19:14:58.872] - Time to load binary model to memory: 0.000.\n",
      "INFO:[2023-09-27 19:14:58.874] - Size deserializing models: 64\n",
      "INFO:[2023-09-27 19:14:58.918] - Run load model settings.\n",
      "INFO:[2023-09-27 19:14:58.929] - Analyzing arguments in <bound method MyModel.predict of <__main__.MyModel object at 0x10e72d610>>.\n",
      "INFO:[2023-09-27 19:14:58.933] - Found X param in model params. Set List type\n",
      "INFO:[2023-09-27 19:14:58.938] - Time to load model settings: 0.018.\n"
     ]
    }
   ],
   "source": [
    "up.ml.load()"
   ]
  },
  {
   "cell_type": "code",
   "execution_count": 5,
   "id": "42f95f29",
   "metadata": {},
   "outputs": [
    {
     "name": "stdout",
     "output_type": "stream",
     "text": [
      "INFO:[2023-09-27 19:15:00.424] - The model work: 0.002.\n"
     ]
    },
    {
     "data": {
      "text/plain": [
       "[1, 2, 3]"
      ]
     },
     "execution_count": 5,
     "metadata": {},
     "output_type": "execute_result"
    }
   ],
   "source": [
    "up.predict(X=[1, 2, 3])"
   ]
  },
  {
   "cell_type": "code",
   "execution_count": 6,
   "id": "0fc05886",
   "metadata": {},
   "outputs": [
    {
     "name": "stdout",
     "output_type": "stream",
     "text": [
      "INFO:[2023-09-27 19:15:01.663] - Run load Web application\n",
      "INFO:     [86572][140704338790144] [2023-09-27 19:15:01.681] - Waiting start uvicorn proc with web app 30.0 seconds.\n"
     ]
    },
    {
     "name": "stderr",
     "output_type": "stream",
     "text": [
      "INFO:     Started server process [86572]\n",
      "INFO:     Waiting for application startup.\n"
     ]
    },
    {
     "name": "stdout",
     "output_type": "stream",
     "text": [
      "INFO:     [86572][123145606443008] [2023-09-27 19:15:01.780] - Run model in worker\n",
      "INFO:     [86572][123145606443008] [2023-09-27 19:15:01.783] - Start checking the queue...\n"
     ]
    },
    {
     "name": "stderr",
     "output_type": "stream",
     "text": [
      "INFO:     Application startup complete.\n",
      "INFO:     Uvicorn running on http://0.0.0.0:8009 (Press CTRL+C to quit)\n"
     ]
    }
   ],
   "source": [
    "up.run_web_app(daemon=True)"
   ]
  },
  {
   "cell_type": "code",
   "execution_count": 7,
   "id": "ab79bbd3",
   "metadata": {},
   "outputs": [
    {
     "name": "stdout",
     "output_type": "stream",
     "text": [
      "INFO:     [86572][123145606443008] [2023-09-27 19:15:02.814] - New request 9a413ac2-21b2-4758-a747-66c454255d92 put to queue.\n",
      "INFO:     [86572][123145606443008] [2023-09-27 19:15:02.902] - Run predict for 9a413ac2-21b2-4758-a747-66c454255d92\n",
      "INFO:     [86572][123145606443008] [2023-09-27 19:15:02.905] - The model work: 0.002.\n",
      "INFO:     [86572][123145606443008] [2023-09-27 19:15:02.907] - End predict for 9a413ac2-21b2-4758-a747-66c454255d92\n",
      "INFO:     [86572][123145606443008] [2023-09-27 19:15:02,916.916] - 127.0.0.1:59844 \"POST /predict HTTP/1.1\" 200 OK\n"
     ]
    }
   ],
   "source": [
    "resp = requests.post('http://0.0.0.0:8009/predict', json={'X': [1, 2, 3]})"
   ]
  },
  {
   "cell_type": "code",
   "execution_count": 8,
   "id": "8bd4d260",
   "metadata": {},
   "outputs": [
    {
     "data": {
      "text/plain": [
       "{'predict_result': [1, 2, 3]}"
      ]
     },
     "execution_count": 8,
     "metadata": {},
     "output_type": "execute_result"
    }
   ],
   "source": [
    "resp.json()"
   ]
  },
  {
   "cell_type": "code",
   "execution_count": 9,
   "id": "29850e24",
   "metadata": {},
   "outputs": [
    {
     "name": "stderr",
     "output_type": "stream",
     "text": [
      "INFO:     Shutting down\n",
      "INFO:     Shutting down\n",
      "INFO:     Waiting for application shutdown.\n"
     ]
    },
    {
     "name": "stdout",
     "output_type": "stream",
     "text": [
      "INFO:     [86572][123145606443008] [2023-09-27 19:15:09.894] - Stop checking the queue...\n",
      "INFO:     [86572][123145606443008] [2023-09-27 19:15:09.897] - Worker stopped\n"
     ]
    },
    {
     "name": "stderr",
     "output_type": "stream",
     "text": [
      "Exception in thread Thread-6:\n",
      "Traceback (most recent call last):\n",
      "  File \"/Users/t.deys/.pyenv/versions/3.7.16/lib/python3.7/threading.py\", line 926, in _bootstrap_inner\n",
      "    self.run()\n",
      "  File \"/Users/t.deys/.pyenv/versions/3.7.16/envs/3.7-test/lib/python3.7/site-packages/mlup/utils/loop.py\", line 16, in run\n",
      "    self.result = asyncio.run(self.async_func(*self.args, **self.kwargs))\n",
      "  File \"/Users/t.deys/.pyenv/versions/3.7.16/lib/python3.7/asyncio/runners.py\", line 43, in run\n",
      "    return loop.run_until_complete(main)\n",
      "  File \"/Users/t.deys/.pyenv/versions/3.7.16/lib/python3.7/asyncio/base_events.py\", line 587, in run_until_complete\n",
      "    return future.result()\n",
      "  File \"/Users/t.deys/.pyenv/versions/3.7.16/lib/python3.7/asyncio/tasks.py\", line 442, in wait_for\n",
      "    return fut.result()\n",
      "  File \"/Users/t.deys/.pyenv/versions/3.7.16/envs/3.7-test/lib/python3.7/site-packages/uvicorn/server.py\", line 299, in shutdown\n",
      "    await self.lifespan.shutdown()\n",
      "  File \"/Users/t.deys/.pyenv/versions/3.7.16/envs/3.7-test/lib/python3.7/site-packages/uvicorn/lifespan/on.py\", line 70, in shutdown\n",
      "    await self.shutdown_event.wait()\n",
      "  File \"/Users/t.deys/.pyenv/versions/3.7.16/lib/python3.7/asyncio/locks.py\", line 293, in wait\n",
      "    await fut\n",
      "RuntimeError: Task <Task pending coro=<Server.shutdown() running at /Users/t.deys/.pyenv/versions/3.7.16/envs/3.7-test/lib/python3.7/site-packages/uvicorn/server.py:299> cb=[_release_waiter(<Future pendi...10e892650>()]>)() at /Users/t.deys/.pyenv/versions/3.7.16/lib/python3.7/asyncio/tasks.py:392]> got Future <Future pending> attached to a different loop\n",
      "\n",
      "INFO:     Waiting for application shutdown.\n",
      "INFO:     Application shutdown complete.\n",
      "INFO:     Finished server process [86572]\n"
     ]
    }
   ],
   "source": [
    "up.stop_web_app()"
   ]
  }
 ],
 "metadata": {
  "kernelspec": {
   "display_name": "Python 3 (ipykernel)",
   "language": "python",
   "name": "python3"
  },
  "language_info": {
   "codemirror_mode": {
    "name": "ipython",
    "version": 3
   },
   "file_extension": ".py",
   "mimetype": "text/x-python",
   "name": "python",
   "nbconvert_exporter": "python",
   "pygments_lexer": "ipython3",
   "version": "3.7.16"
  }
 },
 "nbformat": 4,
 "nbformat_minor": 5
}
