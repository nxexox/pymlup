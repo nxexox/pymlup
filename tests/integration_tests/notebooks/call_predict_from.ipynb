{
 "cells": [
  {
   "cell_type": "code",
   "execution_count": 1,
   "id": "356a372b",
   "metadata": {},
   "outputs": [],
   "source": [
    "import requests\n",
    "import numpy\n",
    "import mlup\n",
    "from mlup import constants"
   ]
  },
  {
   "cell_type": "code",
   "execution_count": 2,
   "id": "501cf3d6",
   "metadata": {},
   "outputs": [],
   "source": [
    "class MyModel:\n",
    "    def predict(self, X):\n",
    "        return X\n",
    "\n",
    "model = MyModel()"
   ]
  },
  {
   "cell_type": "code",
   "execution_count": 3,
   "id": "58f2bca9",
   "metadata": {},
   "outputs": [],
   "source": [
    "up = mlup.UP(\n",
    "    ml_model=model, \n",
    "    conf=mlup.Config(\n",
    "        data_transformer_for_predict=constants.ModelDataTransformerType.NUMPY_ARR,\n",
    "        data_transformer_for_predicted=constants.ModelDataTransformerType.SRC_TYPES,\n",
    "    )\n",
    ")"
   ]
  },
  {
   "cell_type": "code",
   "execution_count": 4,
   "id": "e8f0b696",
   "metadata": {},
   "outputs": [
    {
     "name": "stderr",
     "output_type": "stream",
     "text": [
      "[81927][140704293254912] [2023-08-15 17:24:35.658] INFO - Load model with settings: \n",
      "    name=MyFirstMLupModel\n",
      "    version=1.0.0.0\n",
      "    type=sklearn\n",
      "    columns=None\n",
      "    predict_method_name=predict\n",
      "    auto_detect_predict_params=True\n",
      "    storage_type=mlup.ml.storage.memory.MemoryStorage\n",
      "    binarization_type=mlup.ml.binarization.pickle.PickleBinarizer\n",
      "    use_thread_loop=True\n",
      "    max_thread_loop_workers=None\n",
      "    data_type_for_predict=mlup.ml.data_transformers.src_data_transformer.SrcDataTransformer\n",
      "    data_type_for_predicted=mlup.ml.data_transformers.src_data_transformer.SrcDataTransformer\n",
      "[81927][140704293254912] [2023-08-15 17:24:35.682] INFO - Create storage <class 'mlup.ml.storage.memory.MemoryStorage'>.\n",
      "[81927][140704293254912] [2023-08-15 17:24:35.684] INFO - Time to load binary model to memory: 0.000.\n",
      "[81927][140704293254912] [2023-08-15 17:24:35.745] INFO - Auto analyzing arguments in <bound method MyModel.predict of <__main__.MyModel object at 0x10637c070>>.\n",
      "[81927][140704293254912] [2023-08-15 17:24:35.746] INFO - Found X param in model params. Set List type\n",
      "[81927][140704293254912] [2023-08-15 17:24:35.747] INFO - Time to load model settings: 0.002.\n"
     ]
    }
   ],
   "source": [
    "up.ml.load()"
   ]
  },
  {
   "cell_type": "code",
   "execution_count": 5,
   "id": "42f95f29",
   "metadata": {
    "pycharm": {
     "name": "#%%\n"
    }
   },
   "outputs": [
    {
     "name": "stderr",
     "output_type": "stream",
     "text": [
      "[81927][140704293254912] [2023-08-15 17:24:39.440] INFO - The model work  0.003.\n"
     ]
    },
    {
     "data": {
      "text/plain": [
       "[1, 2, 3]"
      ]
     },
     "execution_count": 5,
     "metadata": {},
     "output_type": "execute_result"
    }
   ],
   "source": [
    "up.predict_from(X=numpy.array([1, 2, 3]))"
   ]
  },
  {
   "cell_type": "code",
   "execution_count": null,
   "outputs": [],
   "source": [
    "assert numpy.array_equal(numpy.array([1, 2, 3]), up.predict_from(X=numpy.array([1, 2, 3])))"
   ],
   "metadata": {
    "collapsed": false,
    "pycharm": {
     "name": "#%%\n"
    }
   }
  }
 ],
 "metadata": {
  "kernelspec": {
   "display_name": "Python 3 (ipykernel)",
   "language": "python",
   "name": "python3"
  },
  "language_info": {
   "codemirror_mode": {
    "name": "ipython",
    "version": 3
   },
   "file_extension": ".py",
   "mimetype": "text/x-python",
   "name": "python",
   "nbconvert_exporter": "python",
   "pygments_lexer": "ipython3",
   "version": "3.10.11"
  }
 },
 "nbformat": 4,
 "nbformat_minor": 5
}