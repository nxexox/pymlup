{
 "cells": [
  {
   "cell_type": "code",
   "id": "356a372b",
   "metadata": {
    "ExecuteTime": {
     "end_time": "2024-08-09T10:22:03.013137Z",
     "start_time": "2024-08-09T10:22:02.440780Z"
    }
   },
   "source": [
    "import requests\n",
    "import numpy\n",
    "import mlup\n",
    "from mlup import constants"
   ],
   "outputs": [],
   "execution_count": 1
  },
  {
   "cell_type": "code",
   "id": "501cf3d6",
   "metadata": {
    "ExecuteTime": {
     "end_time": "2024-08-09T10:22:03.465879Z",
     "start_time": "2024-08-09T10:22:03.462348Z"
    }
   },
   "source": [
    "class MyModel:\n",
    "    def predict(self, X):\n",
    "        return X\n",
    "\n",
    "model = MyModel()"
   ],
   "outputs": [],
   "execution_count": 2
  },
  {
   "cell_type": "code",
   "id": "58f2bca9",
   "metadata": {
    "ExecuteTime": {
     "end_time": "2024-08-09T10:22:04.711968Z",
     "start_time": "2024-08-09T10:22:04.700428Z"
    }
   },
   "source": [
    "up = mlup.UP(\n",
    "    ml_model=model, \n",
    "    conf=mlup.Config(\n",
    "        data_transformer_for_predict=constants.ModelDataTransformerType.NUMPY_ARR,\n",
    "        data_transformer_for_predicted=constants.ModelDataTransformerType.SRC_TYPES,\n",
    "    )\n",
    ")"
   ],
   "outputs": [],
   "execution_count": 3
  },
  {
   "cell_type": "code",
   "id": "e8f0b696",
   "metadata": {
    "ExecuteTime": {
     "end_time": "2024-08-09T10:22:06.575837Z",
     "start_time": "2024-08-09T10:22:06.522603Z"
    }
   },
   "source": [
    "up.ml.load()"
   ],
   "outputs": [
    {
     "name": "stdout",
     "output_type": "stream",
     "text": [
      "INFO:[2024-08-09 15:22:06.524] - Run load model.\n",
      "INFO:[2024-08-09 15:22:06.529] - Time to load binary model to memory: 0.000.\n",
      "INFO:[2024-08-09 15:22:06.530] - Size deserializing models: 56\n",
      "INFO:[2024-08-09 15:22:06.569] - Run load model settings.\n",
      "INFO:[2024-08-09 15:22:06.572] - Analyzing arguments in <bound method MyModel.predict of <__main__.MyModel object at 0x109f05a90>>.\n",
      "INFO:[2024-08-09 15:22:06.573] - Found X param in model params. Set List type\n",
      "INFO:[2024-08-09 15:22:06.573] - Time to load model settings: 0.003.\n"
     ]
    }
   ],
   "execution_count": 4
  },
  {
   "cell_type": "code",
   "id": "42f95f29",
   "metadata": {
    "pycharm": {
     "name": "#%%\n"
    },
    "ExecuteTime": {
     "end_time": "2024-08-09T10:22:14.402820Z",
     "start_time": "2024-08-09T10:22:14.391111Z"
    }
   },
   "source": [
    "up.predict_from(X=numpy.array([1, 2, 3]))"
   ],
   "outputs": [
    {
     "name": "stdout",
     "output_type": "stream",
     "text": [
      "INFO:[2024-08-09 15:22:14.394] - The model work: 0.000.\n"
     ]
    },
    {
     "data": {
      "text/plain": [
       "array([1, 2, 3])"
      ]
     },
     "execution_count": 5,
     "metadata": {},
     "output_type": "execute_result"
    }
   ],
   "execution_count": 5
  },
  {
   "cell_type": "code",
   "source": [
    "assert numpy.array_equal(numpy.array([1, 2, 3]), up.predict_from(X=numpy.array([1, 2, 3])))"
   ],
   "metadata": {
    "collapsed": false,
    "pycharm": {
     "name": "#%%\n"
    },
    "ExecuteTime": {
     "end_time": "2024-08-09T10:22:15.767621Z",
     "start_time": "2024-08-09T10:22:15.760563Z"
    }
   },
   "id": "c7c3c6675920322",
   "outputs": [
    {
     "name": "stdout",
     "output_type": "stream",
     "text": [
      "INFO:[2024-08-09 15:22:15.764] - The model work: 0.001.\n"
     ]
    }
   ],
   "execution_count": 6
  }
 ],
 "metadata": {
  "kernelspec": {
   "display_name": "Python 3 (ipykernel)",
   "language": "python",
   "name": "python3"
  },
  "language_info": {
   "codemirror_mode": {
    "name": "ipython",
    "version": 3
   },
   "file_extension": ".py",
   "mimetype": "text/x-python",
   "name": "python",
   "nbconvert_exporter": "python",
   "pygments_lexer": "ipython3",
   "version": "3.10.11"
  }
 },
 "nbformat": 4,
 "nbformat_minor": 5
}
