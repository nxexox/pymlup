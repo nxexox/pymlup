{
 "cells": [
  {
   "cell_type": "code",
   "id": "356a372b",
   "metadata": {
    "ExecuteTime": {
     "end_time": "2024-08-09T10:19:11.518355Z",
     "start_time": "2024-08-09T10:19:11.322876Z"
    }
   },
   "source": [
    "import requests\n",
    "import mlup\n",
    "from mlup import constants"
   ],
   "outputs": [],
   "execution_count": 1
  },
  {
   "cell_type": "code",
   "id": "501cf3d6",
   "metadata": {
    "ExecuteTime": {
     "end_time": "2024-08-09T10:19:13.244462Z",
     "start_time": "2024-08-09T10:19:13.240332Z"
    }
   },
   "source": [
    "class MyModel:\n",
    "    def predict(self, X):\n",
    "        return X\n",
    "\n",
    "model = MyModel()"
   ],
   "outputs": [],
   "execution_count": 2
  },
  {
   "cell_type": "code",
   "id": "58f2bca9",
   "metadata": {
    "ExecuteTime": {
     "end_time": "2024-08-09T10:19:14.131959Z",
     "start_time": "2024-08-09T10:19:14.089260Z"
    }
   },
   "source": [
    "up = mlup.UP(\n",
    "    ml_model=model, \n",
    "    conf=mlup.Config(\n",
    "        data_transformer_for_predict=constants.ModelDataTransformerType.SRC_TYPES,\n",
    "        data_transformer_for_predicted=constants.ModelDataTransformerType.SRC_TYPES,\n",
    "    )\n",
    ")"
   ],
   "outputs": [],
   "execution_count": 3
  },
  {
   "cell_type": "code",
   "id": "e8f0b696",
   "metadata": {
    "ExecuteTime": {
     "end_time": "2024-08-09T10:19:15.162338Z",
     "start_time": "2024-08-09T10:19:15.109285Z"
    }
   },
   "source": [
    "up.ml.load()"
   ],
   "outputs": [
    {
     "name": "stdout",
     "output_type": "stream",
     "text": [
      "INFO:[2024-08-09 15:19:15.110] - Run load model.\n",
      "INFO:[2024-08-09 15:19:15.115] - Time to load binary model to memory: 0.000.\n",
      "INFO:[2024-08-09 15:19:15.116] - Size deserializing models: 56\n",
      "INFO:[2024-08-09 15:19:15.156] - Run load model settings.\n",
      "INFO:[2024-08-09 15:19:15.159] - Analyzing arguments in <bound method MyModel.predict of <__main__.MyModel object at 0x106bbbd50>>.\n",
      "INFO:[2024-08-09 15:19:15.159] - Found X param in model params. Set List type\n",
      "INFO:[2024-08-09 15:19:15.160] - Time to load model settings: 0.003.\n"
     ]
    }
   ],
   "execution_count": 4
  },
  {
   "cell_type": "code",
   "id": "42f95f29",
   "metadata": {
    "ExecuteTime": {
     "end_time": "2024-08-09T10:19:17.896590Z",
     "start_time": "2024-08-09T10:19:17.885962Z"
    }
   },
   "source": [
    "up.predict(X=[1, 2, 3])"
   ],
   "outputs": [
    {
     "name": "stdout",
     "output_type": "stream",
     "text": [
      "INFO:[2024-08-09 15:19:17.888] - The model work: 0.001.\n"
     ]
    },
    {
     "data": {
      "text/plain": [
       "[1, 2, 3]"
      ]
     },
     "execution_count": 5,
     "metadata": {},
     "output_type": "execute_result"
    }
   ],
   "execution_count": 5
  },
  {
   "cell_type": "code",
   "id": "0fc05886",
   "metadata": {
    "ExecuteTime": {
     "end_time": "2024-08-09T10:19:22.442374Z",
     "start_time": "2024-08-09T10:19:22.325990Z"
    }
   },
   "source": [
    "up.run_web_app(daemon=True)"
   ],
   "outputs": [
    {
     "name": "stdout",
     "output_type": "stream",
     "text": [
      "INFO:[2024-08-09 15:19:22.327] - Run load Web application\n",
      "INFO:[2024-08-09 15:19:22.333] - Load WebAppArchitecture.directly_to_predict\n",
      "INFO:     [31560][6273396736] [2024-08-09 15:19:22.333] - MLup application will be launched at: http://0.0.0.0:8009\n",
      "INFO:     [31560][6273396736] [2024-08-09 15:19:22.335] - You can open your application's API documentation at http://0.0.0.0:8009/docs\n",
      "INFO:     [31560][8349944832] [2024-08-09 15:19:22.334] - Waiting start uvicorn proc with web app 30.0 seconds.\n"
     ]
    },
    {
     "name": "stderr",
     "output_type": "stream",
     "text": [
      "INFO:     Started server process [31560]\n",
      "INFO:     Waiting for application startup.\n",
      "INFO:     Application startup complete.\n",
      "INFO:     Uvicorn running on http://0.0.0.0:8009 (Press CTRL+C to quit)\n"
     ]
    }
   ],
   "execution_count": 6
  },
  {
   "cell_type": "code",
   "id": "ab79bbd3",
   "metadata": {
    "ExecuteTime": {
     "end_time": "2024-08-09T10:19:26.050182Z",
     "start_time": "2024-08-09T10:19:26.032002Z"
    }
   },
   "source": [
    "resp = requests.post('http://0.0.0.0:8009/predict', json={'X': [1, 2, 3]})"
   ],
   "outputs": [],
   "execution_count": 7
  },
  {
   "cell_type": "code",
   "id": "8bd4d260",
   "metadata": {
    "ExecuteTime": {
     "end_time": "2024-08-09T10:19:30.898266Z",
     "start_time": "2024-08-09T10:19:27.891974Z"
    }
   },
   "source": "up.stop_web_app()",
   "outputs": [
    {
     "name": "stderr",
     "output_type": "stream",
     "text": [
      "INFO:     Shutting down\n",
      "INFO:     Waiting for application shutdown.\n",
      "INFO:     Application shutdown complete.\n"
     ]
    }
   ],
   "execution_count": 8
  },
  {
   "cell_type": "code",
   "id": "29850e24",
   "metadata": {
    "ExecuteTime": {
     "end_time": "2024-08-09T10:19:34.208986Z",
     "start_time": "2024-08-09T10:19:34.200199Z"
    }
   },
   "source": "resp.json()",
   "outputs": [
    {
     "data": {
      "text/plain": [
       "{'predict_result': [1, 2, 3]}"
      ]
     },
     "execution_count": 9,
     "metadata": {},
     "output_type": "execute_result"
    }
   ],
   "execution_count": 9
  }
 ],
 "metadata": {
  "kernelspec": {
   "display_name": "Python 3 (ipykernel)",
   "language": "python",
   "name": "python3"
  },
  "language_info": {
   "codemirror_mode": {
    "name": "ipython",
    "version": 3
   },
   "file_extension": ".py",
   "mimetype": "text/x-python",
   "name": "python",
   "nbconvert_exporter": "python",
   "pygments_lexer": "ipython3",
   "version": "3.7.16"
  }
 },
 "nbformat": 4,
 "nbformat_minor": 5
}
