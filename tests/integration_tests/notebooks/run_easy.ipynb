{
 "cells": [
  {
   "cell_type": "code",
   "execution_count": 1,
   "id": "356a372b",
   "metadata": {},
   "outputs": [],
   "source": [
    "import requests\n",
    "import mlup\n",
    "from mlup import constants"
   ]
  },
  {
   "cell_type": "code",
   "execution_count": 2,
   "id": "501cf3d6",
   "metadata": {},
   "outputs": [],
   "source": [
    "class MyModel:\n",
    "    def predict(self, X):\n",
    "        return X\n",
    "\n",
    "model = MyModel()"
   ]
  },
  {
   "cell_type": "code",
   "execution_count": 3,
   "id": "58f2bca9",
   "metadata": {},
   "outputs": [],
   "source": [
    "up = mlup.UP(\n",
    "    ml_model=model, \n",
    "    conf=mlup.Config(\n",
    "        data_transformer_for_predict=constants.ModelDataTransformerType.SRC_TYPES,\n",
    "        data_transformer_for_predicted=constants.ModelDataTransformerType.SRC_TYPES,\n",
    "    )\n",
    ")"
   ]
  },
  {
   "cell_type": "code",
   "execution_count": 4,
   "id": "e8f0b696",
   "metadata": {},
   "outputs": [
    {
     "name": "stderr",
     "output_type": "stream",
     "text": [
      "[81927][140704293254912] [2023-08-15 17:24:35.658] INFO - Load model with settings: \n",
      "    name=MyFirstMLupModel\n",
      "    version=1.0.0.0\n",
      "    type=sklearn\n",
      "    columns=None\n",
      "    predict_method_name=predict\n",
      "    auto_detect_predict_params=True\n",
      "    storage_type=mlup.ml.storage.memory.MemoryStorage\n",
      "    binarization_type=mlup.ml.binarization.pickle.PickleBinarizer\n",
      "    use_thread_loop=True\n",
      "    max_thread_loop_workers=None\n",
      "    data_type_for_predict=mlup.ml.data_transformers.src_data_transformer.SrcDataTransformer\n",
      "    data_type_for_predicted=mlup.ml.data_transformers.src_data_transformer.SrcDataTransformer\n",
      "[81927][140704293254912] [2023-08-15 17:24:35.682] INFO - Create storage <class 'mlup.ml.storage.memory.MemoryStorage'>.\n",
      "[81927][140704293254912] [2023-08-15 17:24:35.684] INFO - Time to load binary model to memory: 0.000.\n",
      "[81927][140704293254912] [2023-08-15 17:24:35.745] INFO - Auto analyzing arguments in <bound method MyModel.predict of <__main__.MyModel object at 0x10637c070>>.\n",
      "[81927][140704293254912] [2023-08-15 17:24:35.746] INFO - Found X param in model params. Set List type\n",
      "[81927][140704293254912] [2023-08-15 17:24:35.747] INFO - Time to load model settings: 0.002.\n"
     ]
    }
   ],
   "source": [
    "up.ml.load()"
   ]
  },
  {
   "cell_type": "code",
   "execution_count": 5,
   "id": "42f95f29",
   "metadata": {},
   "outputs": [
    {
     "name": "stderr",
     "output_type": "stream",
     "text": [
      "[81927][140704293254912] [2023-08-15 17:24:39.440] INFO - The model work  0.003.\n"
     ]
    },
    {
     "data": {
      "text/plain": [
       "[1, 2, 3]"
      ]
     },
     "execution_count": 5,
     "metadata": {},
     "output_type": "execute_result"
    }
   ],
   "source": [
    "up.predict(X=[1, 2, 3])"
   ]
  },
  {
   "cell_type": "code",
   "execution_count": 6,
   "id": "0fc05886",
   "metadata": {},
   "outputs": [
    {
     "name": "stderr",
     "output_type": "stream",
     "text": [
      "[81927][140704293254912] [2023-08-15 17:24:41.322] INFO - Load Web application with settings:\n",
      "    host=0.0.0.0\n",
      "    port=8009\n",
      "    web_app_version=1.0.0.0\n",
      "    column_validation=False\n",
      "    custom_column_pydantic_model=None\n",
      "    mode=mlup.web.architecture.directly_to_predict.DirectlyToPredictArchitecture\n",
      "    max_queue_size=100\n",
      "    ttl_predicted_data=60\n",
      "    ttl_client_wait=30.0\n",
      "    min_batch_len=10\n",
      "    batch_worker_timeout=1.0\n",
      "    is_long_predict=False\n",
      "    debug=False\n",
      "    throttling_max_requests=None\n",
      "    throttling_max_request_len=None\n",
      "    timeout_for_shutdown_daemon=3.0\n",
      "    item_id_col_name=mlup_item_id\n",
      "[81927][140704293254912] [2023-08-15 17:24:41.339] INFO - Load WebAppArchitecture.directly_to_predict web app architecture\n",
      "[81927][140704293254912] [2023-08-15 17:24:41.340] INFO - Waiting start uvicorn proc with web app 30.0 seconds.\n",
      "INFO:     Started server process [81927]\n",
      "INFO:     Waiting for application startup.\n",
      "[81927][123145509253120] [2023-08-15 17:24:41.455] INFO - Running model directly to predict\n",
      "INFO:     Application startup complete.\n",
      "INFO:     Uvicorn running on http://0.0.0.0:8009 (Press CTRL+C to quit)\n"
     ]
    }
   ],
   "source": [
    "up.run_web_app(daemon=True)"
   ]
  },
  {
   "cell_type": "code",
   "execution_count": 7,
   "id": "ab79bbd3",
   "metadata": {},
   "outputs": [
    {
     "name": "stderr",
     "output_type": "stream",
     "text": [
      "[81927][123145509253120] [2023-08-15 17:24:43.653] INFO - New request f8d48946-85af-46ff-b8f0-2dba7f69fe26.\n",
      "[81927][123145509253120] [2023-08-15 17:24:43.655] INFO - The model work  0.001.\n",
      "[81927][123145509253120] [2023-08-15 17:24:43.656] INFO - End predict for f8d48946-85af-46ff-b8f0-2dba7f69fe26\n"
     ]
    },
    {
     "name": "stdout",
     "output_type": "stream",
     "text": [
      "INFO:     127.0.0.1:60406 - \"POST /predict HTTP/1.1\" 200 OK\n"
     ]
    }
   ],
   "source": [
    "resp = requests.post('http://0.0.0.0:8009/predict', json={'X': [1, 2, 3]})"
   ]
  },
  {
   "cell_type": "code",
   "execution_count": 11,
   "id": "8bd4d260",
   "metadata": {},
   "outputs": [
    {
     "name": "stderr",
     "output_type": "stream",
     "text": [
      "INFO:     Shutting down\n",
      "INFO:     Waiting for application shutdown.\n",
      "[81927][123145509253120] [2023-08-15 17:25:04.598] INFO - Model directly stopped\n",
      "INFO:     Application shutdown complete.\n"
     ]
    }
   ],
   "source": [
    "up.stop_web_app()"
   ]
  },
  {
   "cell_type": "code",
   "execution_count": 1,
   "id": "29850e24",
   "metadata": {},
   "outputs": [
    {
     "ename": "NameError",
     "evalue": "name 'resp' is not defined",
     "output_type": "error",
     "traceback": [
      "\u001B[0;31m---------------------------------------------------------------------------\u001B[0m",
      "\u001B[0;31mNameError\u001B[0m                                 Traceback (most recent call last)",
      "Cell \u001B[0;32mIn[1], line 1\u001B[0m\n\u001B[0;32m----> 1\u001B[0m \u001B[43mresp\u001B[49m\u001B[38;5;241m.\u001B[39mjson()\n",
      "\u001B[0;31mNameError\u001B[0m: name 'resp' is not defined"
     ]
    }
   ],
   "source": [
    "resp.json()"
   ]
  }
 ],
 "metadata": {
  "kernelspec": {
   "display_name": "Python 3 (ipykernel)",
   "language": "python",
   "name": "python3"
  },
  "language_info": {
   "codemirror_mode": {
    "name": "ipython",
    "version": 3
   },
   "file_extension": ".py",
   "mimetype": "text/x-python",
   "name": "python",
   "nbconvert_exporter": "python",
   "pygments_lexer": "ipython3",
   "version": "3.10.11"
  }
 },
 "nbformat": 4,
 "nbformat_minor": 5
}